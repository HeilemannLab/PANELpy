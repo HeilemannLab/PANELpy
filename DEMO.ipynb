{
 "cells": [
  {
   "cell_type": "code",
   "execution_count": 1,
   "id": "2ef637e6",
   "metadata": {},
   "outputs": [],
   "source": [
    "import os\n",
    "import tifffile\n",
    "import numpy as np\n",
    "import skimage.io\n",
    "import rFRC.rolling_fourier_ring_correlation as frc\n",
    "from rFRC.fourier_correlation_data import FourierCorrelationDataCollection\n",
    "import rFRC.frc as frcplots\n",
    "from rFRC.frc_options import get_frc_script_options\n",
    "from utils.image import Image"
   ]
  },
  {
   "cell_type": "code",
   "execution_count": 2,
   "id": "9b7b656e",
   "metadata": {},
   "outputs": [],
   "source": [
    "# read data\n",
    "data_dir = os.getcwd()\n",
    "filename = \"HDSMLM_20nmpixel_background_15.tif\"\n",
    "full_path = os.path.join(data_dir, filename)\n",
    "image_stack = tifffile.imread(full_path)"
   ]
  },
  {
   "cell_type": "code",
   "execution_count": 3,
   "id": "53828895",
   "metadata": {},
   "outputs": [
    {
     "name": "stdout",
     "output_type": "stream",
     "text": [
      "Namespace(carma_det_idx=0, carma_gate_idx=0, channel=0, d_angle=20, d_bin=1, d_extract_angle=5.0, debug=False, directory='None', disable_hamming=False, enhance_contrast_on_save=False, evaluate_results=False, frc_curve_fit_degree=8, frc_curve_fit_type='smooth-spline', frc_mode='one-image', hollow_iterator=False, jupyter=False, min_filter=False, pathout=None, plot_size=(2.5, 2.5), resol_square=False, resolution_point_sigma=0.01, resolution_snr_value=0.25, resolution_threshold_criterion='three-sigma', resolution_threshold_curve_fit_degree=3, resolution_threshold_value=0.14285714285714285, save_plots=False, scale=100, show_image=False, show_plots=False, temp_dir=None, test_drive=False, verbose=False, working_directory='/home/sami/Data')\n"
     ]
    }
   ],
   "source": [
    "# args\n",
    "args_list = (\"None\").split()\n",
    "args = get_frc_script_options(args_list)\n",
    "print(args)"
   ]
  },
  {
   "cell_type": "code",
   "execution_count": 4,
   "id": "fdd5ed63",
   "metadata": {},
   "outputs": [
    {
     "name": "stdout",
     "output_type": "stream",
     "text": [
      "rFRC value: -0.9988531594025226 \n",
      "\n",
      "mean resolution: 0.053464253547245155 nm\n",
      "\n",
      "minimum resolution: 0.021450605 nm\n",
      "\n",
      "maximum resolution: 0.021450605 nm\n",
      "\n"
     ]
    },
    {
     "name": "stderr",
     "output_type": "stream",
     "text": [
      "D:\\software\\anaconda\\envs\\miplib\\lib\\site-packages\\skimage\\io\\_io.py:141: UserWarning: HR_map_stack_test_bg_15.tif is a low contrast image\n",
      "  warn('%s is a low contrast image' % fname)\n"
     ]
    }
   ],
   "source": [
    "# FRC\n",
    "frc_results = FourierCorrelationDataCollection()\n",
    "pixelsize = 0.02\n",
    "map = frc.rFRC_stack(image_stack, pixelsize, args, 64, 15/255, 1)\n",
    "skimage.io.imsave('HR_map_stack_test_bg_15.tif', map)"
   ]
  },
  {
   "cell_type": "code",
   "execution_count": null,
   "id": "ed0110cc",
   "metadata": {},
   "outputs": [],
   "source": []
  }
 ],
 "metadata": {
  "kernelspec": {
   "display_name": "Python 3",
   "language": "python",
   "name": "python3"
  },
  "language_info": {
   "codemirror_mode": {
    "name": "ipython",
    "version": 3
   },
   "file_extension": ".py",
   "mimetype": "text/x-python",
   "name": "python",
   "nbconvert_exporter": "python",
   "pygments_lexer": "ipython3",
   "version": "3.6.13"
  }
 },
 "nbformat": 4,
 "nbformat_minor": 5
}
